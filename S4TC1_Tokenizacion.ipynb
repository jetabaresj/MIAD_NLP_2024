{
 "cells": [
  {
   "attachments": {},
   "cell_type": "markdown",
   "metadata": {},
   "source": [
    "![image info](https://raw.githubusercontent.com/albahnsen/MIAD_ML_and_NLP/main/images/banner_1.png)"
   ]
  },
  {
   "cell_type": "markdown",
   "metadata": {},
   "source": [
    "# Taller: Tokenización de textos  \n",
    "\n",
    "En este taller podrán poner en práctica sus conocimientos sobre preprocesamiento de texto (tokenización). El taller está constituido por 5 puntos, en los cuales deberan seguir las intrucciones de cada numeral para su desarrollo."
   ]
  },
  {
   "cell_type": "markdown",
   "metadata": {},
   "source": [
    "## Datos detección de toxicidad en comentarios\n",
    "\n",
    "En este taller se usará el conjunto de datos de detección de toxicidad en comentarios de la base de datos de Kaggle. Cada observación es un comentario que tiene como variable objetivo (target) la probabilidad de ser un comentario tóxico. El objetivo es predecir la toxicidad de cada comentario. Para más detalles pueden visitar el siguiente enlace: [datos](https://www.kaggle.com/c/jigsaw-unintended-bias-in-toxicity-classification/data)."
   ]
  },
  {
   "cell_type": "code",
   "execution_count": 2,
   "metadata": {},
   "outputs": [],
   "source": [
    "import warnings\n",
    "warnings.filterwarnings('ignore')"
   ]
  },
  {
   "cell_type": "code",
   "execution_count": 3,
   "metadata": {},
   "outputs": [],
   "source": [
    "# Importación librerías\n",
    "import pandas as pd\n",
    "import numpy as np\n",
    "import scipy as sp\n",
    "from sklearn.ensemble import RandomForestRegressor\n",
    "from sklearn.model_selection import train_test_split, cross_val_score\n",
    "from sklearn.feature_extraction.text import CountVectorizer, TfidfVectorizer\n",
    "from sklearn import metrics\n",
    "%matplotlib inline"
   ]
  },
  {
   "cell_type": "code",
   "execution_count": 4,
   "metadata": {},
   "outputs": [
    {
     "data": {
      "text/html": [
       "<div>\n",
       "<style scoped>\n",
       "    .dataframe tbody tr th:only-of-type {\n",
       "        vertical-align: middle;\n",
       "    }\n",
       "\n",
       "    .dataframe tbody tr th {\n",
       "        vertical-align: top;\n",
       "    }\n",
       "\n",
       "    .dataframe thead th {\n",
       "        text-align: right;\n",
       "    }\n",
       "</style>\n",
       "<table border=\"1\" class=\"dataframe\">\n",
       "  <thead>\n",
       "    <tr style=\"text-align: right;\">\n",
       "      <th></th>\n",
       "      <th>id</th>\n",
       "      <th>comment_text</th>\n",
       "      <th>target</th>\n",
       "    </tr>\n",
       "  </thead>\n",
       "  <tbody>\n",
       "    <tr>\n",
       "      <th>0</th>\n",
       "      <td>6101457</td>\n",
       "      <td>What are you talking about? What group do Pete...</td>\n",
       "      <td>0.0</td>\n",
       "    </tr>\n",
       "    <tr>\n",
       "      <th>1</th>\n",
       "      <td>5342103</td>\n",
       "      <td>NO!, Let him, we need a Conservative government.</td>\n",
       "      <td>0.0</td>\n",
       "    </tr>\n",
       "    <tr>\n",
       "      <th>2</th>\n",
       "      <td>743361</td>\n",
       "      <td>Perhaps he took the \"power out of the Cardinal...</td>\n",
       "      <td>0.2</td>\n",
       "    </tr>\n",
       "    <tr>\n",
       "      <th>3</th>\n",
       "      <td>551008</td>\n",
       "      <td>As always, yours is dripping with sarcasm, whi...</td>\n",
       "      <td>0.0</td>\n",
       "    </tr>\n",
       "    <tr>\n",
       "      <th>4</th>\n",
       "      <td>865998</td>\n",
       "      <td>The dirty little secret is that the price rang...</td>\n",
       "      <td>0.3</td>\n",
       "    </tr>\n",
       "  </tbody>\n",
       "</table>\n",
       "</div>"
      ],
      "text/plain": [
       "        id                                       comment_text  target\n",
       "0  6101457  What are you talking about? What group do Pete...     0.0\n",
       "1  5342103   NO!, Let him, we need a Conservative government.     0.0\n",
       "2   743361  Perhaps he took the \"power out of the Cardinal...     0.2\n",
       "3   551008  As always, yours is dripping with sarcasm, whi...     0.0\n",
       "4   865998  The dirty little secret is that the price rang...     0.3"
      ]
     },
     "execution_count": 4,
     "metadata": {},
     "output_type": "execute_result"
    }
   ],
   "source": [
    "# Carga de datos de archivos .csv\n",
    "df = pd.read_csv('https://raw.githubusercontent.com/albahnsen/MIAD_ML_and_NLP/main/datasets/Toxicity.zip')\n",
    "df = df[['id','comment_text', 'target']]\n",
    "df.head()"
   ]
  },
  {
   "cell_type": "code",
   "execution_count": 5,
   "metadata": {},
   "outputs": [
    {
     "data": {
      "text/plain": [
       "<Axes: >"
      ]
     },
     "execution_count": 5,
     "metadata": {},
     "output_type": "execute_result"
    },
    {
     "data": {
      "image/png": "[encoded data removed]",
      "text/plain": [
       "<Figure size 640x480 with 1 Axes>"
      ]
     },
     "metadata": {},
     "output_type": "display_data"
    }
   ],
   "source": [
    "# Impresión histograma de variable de interés (y)\n",
    "df.target.hist()"
   ]
  },
  {
   "cell_type": "code",
   "execution_count": 6,
   "metadata": {},
   "outputs": [
    {
     "data": {
      "text/plain": [
       "count    541462.000000\n",
       "mean          0.102991\n",
       "std           0.196979\n",
       "min           0.000000\n",
       "25%           0.000000\n",
       "50%           0.000000\n",
       "75%           0.166667\n",
       "max           1.000000\n",
       "Name: target, dtype: float64"
      ]
     },
     "execution_count": 6,
     "metadata": {},
     "output_type": "execute_result"
    }
   ],
   "source": [
    "# Separación de variable de interés (y)\n",
    "y = df.target\n",
    "y.describe()"
   ]
  },
  {
   "cell_type": "code",
   "execution_count": 7,
   "metadata": {},
   "outputs": [],
   "source": [
    "# Separación de variables predictoras (X), solo se considera el texto de la noticia\n",
    "X = df.comment_text"
   ]
  },
  {
   "cell_type": "code",
   "execution_count": 8,
   "metadata": {},
   "outputs": [],
   "source": [
    "# Separación de datos en set de entrenamiento y test\n",
    "X_train, X_test, y_train, y_test = train_test_split(X, y, test_size=0.33, random_state=42)"
   ]
  },
  {
   "cell_type": "markdown",
   "metadata": {},
   "source": [
    "## Punto 1 - Tokenización con CountVectorizer\n",
    "\n",
    "En la celda 1 creen y entrenen el modelo de regresión de su preferencia, para que prediga la probabilidad de que un comentario sea tóxico, usando los set de entrenamiento y test definidos anteriormente. Usen la función **CountVectorizer** para preprocesar los comentarios y presenten el desempeño del modelo con la métrica del MSE.\n",
    "\n",
    "Recuerden que el preprocesamiento que se haga sobre los datos de entrenamiento  (*.fit_transform()*) deben ser aplicado al set de test (*.transform()*)."
   ]
  },
  {
   "cell_type": "code",
   "execution_count": 9,
   "metadata": {},
   "outputs": [],
   "source": [
    "# Celda 1\n",
    "\n",
    "# Tokenización de los textos\n",
    "vectorizer = CountVectorizer(max_features=5000)\n",
    "X_train_trans = vectorizer.fit_transform(X_train)\n",
    "X_test_trans = vectorizer.transform(X_test)\n",
    "\n",
    "model = RandomForestRegressor(n_estimators=50, min_samples_leaf=4, n_jobs=-1)\n",
    "model.fit(X_train_trans, y_train)\n",
    "\n",
    "# Predicciones\n",
    "y_pred = model.predict(X_test_trans)\n",
    "\n",
    "# Resultados\n",
    "mse_countvectorizer = metrics.mean_squared_error(y_test, y_pred)\n",
    "\n",
    "print(f'Los resultados utilizando un RandomForest y countVectorizer es MSE:{mse_countvectorizer}')"
   ]
  },
  {
   "cell_type": "markdown",
   "metadata": {},
   "source": [
    "## Punto 2 - Tokenización con CountVectorizer y trigramas\n",
    "\n",
    "En la celda 2 creen y entrenen el mismo modelo de regresión del punto anterior (es decir si usaron un RandomForestRegresor usen nuevamente ese regresor), para que prediga la probabilidad de que un comentario sea tóxico, usando los set de entrenamiento y test definidos anteriormente. Usen la función CountVectorizer **considerando trigramas** para preprocesar los comentarios y presenten el desempeño del modelo con la métrica del MSE.\n",
    "\n",
    "Recuerden que el preprocesamiento que se haga sobre los datos de entrenamiento  (*.fit_transform()*) deben ser aplicado al set de test (*.transform()*)."
   ]
  },
  {
   "cell_type": "code",
   "execution_count": null,
   "metadata": {},
   "outputs": [
    {
     "name": "stdout",
     "output_type": "stream",
     "text": [
      "Los resultados utilizando una regresión logistica y countVectorizer es MSE:0.03980333230440809\n"
     ]
    }
   ],
   "source": [
    "# Celda 2\n",
    "\n",
    "vectorizer = CountVectorizer(ngram_range=(3,3))\n",
    "X_train_trans = vectorizer.fit_transform(X_train)\n",
    "X_test_trans = vectorizer.transform(X_test)\n",
    "\n",
    "model = RandomForestRegressor(n_estimators=50, min_samples_leaf=4, n_jobs=-1)\n",
    "model.fit(X_train_trans, y_train)\n",
    "\n",
    "# Predicciones\n",
    "y_pred = model.predict(X_test_trans)\n",
    "\n",
    "# Resultados\n",
    "mse_countvectorizer_trigrams = metrics.mean_squared_error(y_test, y_pred)\n",
    "\n",
    "print(f'Los resultados utilizando una RandomForest y countVectorize para trigramas es MSE:{mse_countvectorizer_trigrams}')"
   ]
  },
  {
   "cell_type": "markdown",
   "metadata": {},
   "source": [
    "## Punto 3 - TfidfVectorizer\n",
    "\n",
    "Investigen sobre la función TfidfVectorizer. En la celda de texto 3, expliquen en qué consiste esta técnica de tokenización (describanla y expliquen su funcionamiento) y cúales son las ventajas o deventajas de su uso al compararlo con la función CountVectorizer."
   ]
  },
  {
   "cell_type": "markdown",
   "metadata": {},
   "source": [
    "Una forma de convertir texto en un formato numérico que es más útil para modelos de aprendizaje automático es la técnica de tokenización TfidfVectorizer de la biblioteca sklearn.feature_extraction.tex. La técnica TF-IDF, cuyo nombre es \"Frecuencia de término-Frecuencia inversa de documentos\", valora las palabras en los documentos tanto por su frecuencia como por la singularidad de cada palabra en el conjunto de documentos.\n",
    "\n",
    "**Funcionamiento:**\n",
    "-  **Term Frequency (TF)**: Es la cantidad de veces que un término aparece en un documento. Se puede calcular dividiendo el número total de veces que un término t aparece en un documento por el número total de términos que aparece en ese documento. Esto atribuye significado a los términos en función de su frecuencia.\n",
    "\n",
    "-  **Inverse Document Frequency (IDF)**: Es un indicador de la importancia de un término. El IDF del término t aumenta con la cantidad de documentos que lo contienen. Esto ayuda a distinguir términos comunes de términos distintos en un conjunto de documentos. Se puede calcular dividiendo el número total de documentos por el número de documentos que contienen el término t.\n",
    "\n",
    "-   **Cálculo de TF-IDF**: El producto de TF-IDF para un término en un documento es el valor final de TF-IDF. Este valor es alto para un término que aparece con frecuencia en un pequeño número de documentos; por lo tanto, podría ser más relevante para el análisis del contenido de un documento.\n",
    "\n",
    "\n",
    "**Ventajas:**\n",
    "- TfidfVectorizer tiene en cuenta tanto la frecuencia de las palabras como la importancia de cada palabra en el conjunto de documentos. Al destacar las palabras más relevantes y disminuir la importancia de las palabras comunes y menos informativas, esto puede ayudar a mejorar el rendimiento de los modelos de aprendizaje automático.\n",
    "- Proporciona mejores caracteristicas para operaciones de procesamiento de textos, como clasificación y agrupación, porque las caracteristicas describen mejor la importancia relativa de los términos en los documentos.\n",
    "\n",
    "**Desventajas:**\n",
    "- Calcular un IDF puede resultar computacionalmente más costoso, especialmente para grandes conjuntos de datos, porque requiere documentos numéricos para cada vocabulario en la fase de comparación.\n",
    "- A diferencia de CountVectorizer, que simplemente cuenta las palabras, los valores de TF-IDF pueden ser menos intuitivos y más difíciles de interpretar sin un análisis adicional."
   ]
  },
  {
   "cell_type": "markdown",
   "metadata": {},
   "source": [
    "## Punto 4 - Tokenización con TfidfVectorizer\n",
    "\n",
    "En la celda 4 creen y entrenen el mismo modelo de regresión del primer punto, para que prediga la probabilidad de que un comentario sea tóxico, usando los set de entrenamiento y test definidos anteriormente. Procesen los comentarios con la función **TfidfVectorizer** y presenten el desempeño del modelo con la métrica del MSE.\n",
    "\n",
    "Recuerden que el preprocesamiento que se haga sobre los datos de entrenamiento  (*.fit_transform()*) deben ser aplicado al set de test (*.transform()*)."
   ]
  },
  {
   "cell_type": "code",
   "execution_count": null,
   "metadata": {},
   "outputs": [
    {
     "name": "stdout",
     "output_type": "stream",
     "text": [
      "Los resultados utilizando una regresión logistica y countVectorizer es MSE:0.028007828603883254\n"
     ]
    }
   ],
   "source": [
    "# Celda 4\n",
    "vectorizer = TfidfVectorizer()\n",
    "X_train_trans = vectorizer.fit_transform(X_train)\n",
    "X_test_trans = vectorizer.transform(X_test)\n",
    "\n",
    "model = RandomForestRegressor(n_estimators=50, min_samples_leaf=4, n_jobs=-1)\n",
    "model.fit(X_train_trans, y_train)\n",
    "\n",
    "# Predicciones\n",
    "y_pred = model.predict(X_test_trans)\n",
    "\n",
    "# Resultados\n",
    "mse_tfidfvectorizer = metrics.mean_squared_error(y_test, y_pred)\n",
    "\n",
    "print(f'Los resultados utilizando una RandomForest y TfidfVectorizer es MSE:{mse_tfidfvectorizer}')"
   ]
  },
  {
   "cell_type": "markdown",
   "metadata": {},
   "source": [
    "## Punto 5 - Comparación y análisis de resultados\n",
    "\n",
    "En la celda 5 comparen los resultados obtenidos de los diferentes modelos y comenten cómo el preprocesamiento de texto afecta el desempeño."
   ]
  },
  {
   "cell_type": "code",
   "execution_count": null,
   "metadata": {},
   "outputs": [
    {
     "data": {
      "image/png": "[encoded data removed]",
      "text/plain": [
       "<Figure size 1000x500 with 1 Axes>"
      ]
     },
     "metadata": {},
     "output_type": "display_data"
    }
   ],
   "source": [
    "import matplotlib.pyplot as plt\n",
    "\n",
    "vector_methods = ['CountVec Unigrams', 'CountVec Trigrams', 'TF-IDF Vec']\n",
    "valores_mse = [mse_countvectorizer, mse_countvectorizer_trigrams, mse_tfidfvectorizer] \n",
    "colors = ['blue', 'green', 'red']\n",
    "\n",
    "plt.figure(figsize=(10,5))\n",
    "plt.bar(vector_methods, valores_mse, color=colors)\n",
    "plt.xlabel('Métodos de Vectorización')\n",
    "plt.ylabel('MSE')\n",
    "plt.title('Comparación del MSE para Diferentes Métodos de Preprocesamiento de Texto')\n",
    "plt.suptitle('Otro titulo')\n",
    "plt.show()"
   ]
  },
  {
   "cell_type": "markdown",
   "metadata": {},
   "source": [
    "1. **CountVectorizer (Valores por defecto)**: Este método parece tener el MSE más bajo de los n-grams, y más alto de encontrado con Tfidf lo que indica que el modelo no puede predecir la toxicidad con tanta precisión como con los otros métodos. Es posible que la vectorización basbada en unigramas no capture complentamente el contexto porque trata cada palabra individualmente. \n",
    "\n",
    "2. **CountVectorizer (Trigramas)**: Este método parece tener el MSE más alto, lo cual sugiere que incluir más contexto (al capturar secuencias de tres palabras) puede haber no ayudado al modelo a entender mejor el texto y mejorar las predicciones. Sin embargo, esto también puede llevar a una matriz de características mucho más grande y dispersa, que puede ser desafiante para el modelo procesar de manera efectiva.\n",
    "\n",
    "3. **TfidfVectorizer**: El uso de TfidfVectorizer resulta en el MSE más bajo de los tres métodos, lo que sugiere que es el más efectivo para esta tarea. Esto puede deberse a que el TF-IDF da más importancia a las palabras que son distintivas y que pueden ser indicadores más fuertes de toxicidad, mientras minimiza el impacto de las palabras comunes que aparecen en muchos comentarios pero que no contribuyen a la toxicidad.\n",
    "\n",
    "En resumen, la vectorización de texto es un paso crucial en el procesamiento del lenguaje natural porque convierte el texto, que es no estructurado y cualitativo, en una forma numérica estructurada que los modelos de aprendizaje automático pueden entender y usar. Cómo se realiza esta vectorización puede tener un impacto significativo en el rendimiento del modelo:\n",
    "\n",
    "- **Contexto**: El contar con información contextual puede mejorar la capacidad del modelo para comprender el texto.\n",
    "- **Dimensionalidad**: La creación de características a través de trigramas puede aumentar la dimensionalidad, lo que puede o no ser útil dependiendo de la cantidad de datos y la capacidad del modelo para manejar esa dimensionalidad.\n",
    "- **Ponderación de Palabras**: La ponderación de palabras según su importancia (como en TF-IDF) parece ofrecer una mejora en la precisión de las predicciones en este caso."
   ]
  }
 ],
 "metadata": {
  "kernelspec": {
   "display_name": "Python 3",
   "language": "python",
   "name": "python3"
  },
  "language_info": {
   "codemirror_mode": {
    "name": "ipython",
    "version": 3
   },
   "file_extension": ".py",
   "mimetype": "text/x-python",
   "name": "python",
   "nbconvert_exporter": "python",
   "pygments_lexer": "ipython3",
   "version": "3.9.16"
  },
  "name": "_merged"
 },
 "nbformat": 4,
 "nbformat_minor": 4
}
