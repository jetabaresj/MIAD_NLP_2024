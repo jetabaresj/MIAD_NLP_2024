{
 "cells": [
  {
   "cell_type": "markdown",
   "metadata": {},
   "source": [
    "![image info](https://raw.githubusercontent.com/albahnsen/MIAD_ML_and_NLP/main/images/banner_1.png)"
   ]
  },
  {
   "cell_type": "markdown",
   "metadata": {},
   "source": [
    "# Taller: Construcción e implementación de árboles de decisión y métodos de ensamblaje\n",
    "\n",
    "En este taller podrá poner en práctica los sus conocimientos sobre construcción e implementación de árboles de decisión y métodos de ensamblajes. El taller está constituido por 9 puntos, 5 relacionados con árboles de decisión (parte A) y 4 con métodos de ensamblaje (parte B)."
   ]
  },
  {
   "cell_type": "markdown",
   "metadata": {},
   "source": [
    "## Parte A - Árboles de decisión\n",
    "\n",
    "En esta parte del taller se usará el conjunto de datos de Capital Bikeshare de Kaggle, donde cada observación representa el alquiler de bicicletas durante una hora y día determinado. Para más detalles puede visitar los siguientes enlaces: [datos](https://archive.ics.uci.edu/ml/machine-learning-databases/00275/Bike-Sharing-Dataset.zip), [dicccionario de datos](https://archive.ics.uci.edu/ml/datasets/Bike+Sharing+Dataset#)."
   ]
  },
  {
   "cell_type": "markdown",
   "metadata": {},
   "source": [
    "### Datos prestamo de bicicletas"
   ]
  },
  {
   "cell_type": "code",
   "execution_count": 1,
   "metadata": {},
   "outputs": [],
   "source": [
    "import warnings\n",
    "warnings.filterwarnings('ignore')"
   ]
  },
  {
   "cell_type": "code",
   "execution_count": 2,
   "metadata": {},
   "outputs": [],
   "source": [
    "# Importación de librerías\n",
    "%matplotlib inline\n",
    "import pandas as pd\n",
    "import numpy as np\n",
    "from sklearn.model_selection import cross_val_score\n",
    "from sklearn.linear_model import LinearRegression\n",
    "from sklearn.tree import DecisionTreeRegressor, export_graphviz\n",
    "\n",
    "import matplotlib.pyplot as plt"
   ]
  },
  {
   "cell_type": "code",
   "execution_count": 3,
   "metadata": {},
   "outputs": [],
   "source": [
    "# Configuración de estilo de Matplotlib\n",
    "plt.rcParams.update({\n",
    "\n",
    "    # FUENTE\n",
    "    'font.family': 'Arial',\n",
    "    'text.color': '#353535',\n",
    "\n",
    "    # TITULOS\n",
    "    'figure.titlesize': 16,  # Tamaño de fuente del suptítulo de la figura\n",
    "    'figure.titleweight': 'bold',  # Peso de la fuente del suptítulo de la figura\n",
    "\n",
    "    # SUBTITULOS\n",
    "    'axes.titlesize': 12,\n",
    "    'axes.titleweight': 'regular',\n",
    "\n",
    "    # ETIQUETAS DE EJES\n",
    "    'axes.labelsize': 10,  # Tamaño de las etiquetas de los ejes\n",
    "    'axes.labelweight': 'regular',  # Peso de la fuente de las etiquetas de los ejes\n",
    "    'axes.labelcolor': '#353535',  # Color de las etiquetas de los ejes\n",
    "\n",
    "    # SPINES\n",
    "    'axes.spines.left':   False,  # display axis spines\n",
    "    'axes.spines.bottom': True,\n",
    "    'axes.spines.top':    False,\n",
    "    'axes.spines.right':  False,\n",
    "\n",
    "    # TICKS\n",
    "    'xtick.bottom':        True   , # draw ticks on the bottom side\n",
    "    'xtick.labelbottom':   True   , # draw label on the bottom\n",
    "    'xtick.color':         '#353535'  , # color of the ticks\n",
    "    'xtick.labelcolor':    'inherit', # color of the tick labels or inherit from xtick.color\n",
    "    'xtick.labelsize':     10 , # font size of the tick labels\n",
    "    'xtick.direction':     'out'    , # direction: {in, out, inout}\n",
    "\n",
    "    'ytick.color': '#353535',\n",
    "    'ytick.left': False, # Oculta los ticks de y en el lado izquierdo\n",
    "\n",
    "    # GRIDS\n",
    "    'axes.grid': True,\n",
    "    'axes.grid.axis': 'y',\n",
    "    'grid.alpha': 0.5,\n",
    "    'grid.color': '#DEDDDD',\n",
    "    'grid.linestyle': '-.',\n",
    "\n",
    "})"
   ]
  },
  {
   "cell_type": "code",
   "execution_count": 4,
   "metadata": {},
   "outputs": [
    {
     "data": {
      "text/html": [
       "<div>\n",
       "<style scoped>\n",
       "    .dataframe tbody tr th:only-of-type {\n",
       "        vertical-align: middle;\n",
       "    }\n",
       "\n",
       "    .dataframe tbody tr th {\n",
       "        vertical-align: top;\n",
       "    }\n",
       "\n",
       "    .dataframe thead th {\n",
       "        text-align: right;\n",
       "    }\n",
       "</style>\n",
       "<table border=\"1\" class=\"dataframe\">\n",
       "  <thead>\n",
       "    <tr style=\"text-align: right;\">\n",
       "      <th></th>\n",
       "      <th>season</th>\n",
       "      <th>holiday</th>\n",
       "      <th>workingday</th>\n",
       "      <th>weather</th>\n",
       "      <th>temp</th>\n",
       "      <th>atemp</th>\n",
       "      <th>humidity</th>\n",
       "      <th>windspeed</th>\n",
       "      <th>casual</th>\n",
       "      <th>registered</th>\n",
       "      <th>total</th>\n",
       "      <th>hour</th>\n",
       "    </tr>\n",
       "    <tr>\n",
       "      <th>datetime</th>\n",
       "      <th></th>\n",
       "      <th></th>\n",
       "      <th></th>\n",
       "      <th></th>\n",
       "      <th></th>\n",
       "      <th></th>\n",
       "      <th></th>\n",
       "      <th></th>\n",
       "      <th></th>\n",
       "      <th></th>\n",
       "      <th></th>\n",
       "      <th></th>\n",
       "    </tr>\n",
       "  </thead>\n",
       "  <tbody>\n",
       "    <tr>\n",
       "      <th>2011-01-01 00:00:00</th>\n",
       "      <td>1</td>\n",
       "      <td>0</td>\n",
       "      <td>0</td>\n",
       "      <td>1</td>\n",
       "      <td>9.84</td>\n",
       "      <td>14.395</td>\n",
       "      <td>81</td>\n",
       "      <td>0.0</td>\n",
       "      <td>3</td>\n",
       "      <td>13</td>\n",
       "      <td>16</td>\n",
       "      <td>0</td>\n",
       "    </tr>\n",
       "    <tr>\n",
       "      <th>2011-01-01 01:00:00</th>\n",
       "      <td>1</td>\n",
       "      <td>0</td>\n",
       "      <td>0</td>\n",
       "      <td>1</td>\n",
       "      <td>9.02</td>\n",
       "      <td>13.635</td>\n",
       "      <td>80</td>\n",
       "      <td>0.0</td>\n",
       "      <td>8</td>\n",
       "      <td>32</td>\n",
       "      <td>40</td>\n",
       "      <td>1</td>\n",
       "    </tr>\n",
       "    <tr>\n",
       "      <th>2011-01-01 02:00:00</th>\n",
       "      <td>1</td>\n",
       "      <td>0</td>\n",
       "      <td>0</td>\n",
       "      <td>1</td>\n",
       "      <td>9.02</td>\n",
       "      <td>13.635</td>\n",
       "      <td>80</td>\n",
       "      <td>0.0</td>\n",
       "      <td>5</td>\n",
       "      <td>27</td>\n",
       "      <td>32</td>\n",
       "      <td>2</td>\n",
       "    </tr>\n",
       "    <tr>\n",
       "      <th>2011-01-01 03:00:00</th>\n",
       "      <td>1</td>\n",
       "      <td>0</td>\n",
       "      <td>0</td>\n",
       "      <td>1</td>\n",
       "      <td>9.84</td>\n",
       "      <td>14.395</td>\n",
       "      <td>75</td>\n",
       "      <td>0.0</td>\n",
       "      <td>3</td>\n",
       "      <td>10</td>\n",
       "      <td>13</td>\n",
       "      <td>3</td>\n",
       "    </tr>\n",
       "    <tr>\n",
       "      <th>2011-01-01 04:00:00</th>\n",
       "      <td>1</td>\n",
       "      <td>0</td>\n",
       "      <td>0</td>\n",
       "      <td>1</td>\n",
       "      <td>9.84</td>\n",
       "      <td>14.395</td>\n",
       "      <td>75</td>\n",
       "      <td>0.0</td>\n",
       "      <td>0</td>\n",
       "      <td>1</td>\n",
       "      <td>1</td>\n",
       "      <td>4</td>\n",
       "    </tr>\n",
       "  </tbody>\n",
       "</table>\n",
       "</div>"
      ],
      "text/plain": [
       "                     season  holiday  workingday  weather  temp   atemp  \\\n",
       "datetime                                                                  \n",
       "2011-01-01 00:00:00       1        0           0        1  9.84  14.395   \n",
       "2011-01-01 01:00:00       1        0           0        1  9.02  13.635   \n",
       "2011-01-01 02:00:00       1        0           0        1  9.02  13.635   \n",
       "2011-01-01 03:00:00       1        0           0        1  9.84  14.395   \n",
       "2011-01-01 04:00:00       1        0           0        1  9.84  14.395   \n",
       "\n",
       "                     humidity  windspeed  casual  registered  total  hour  \n",
       "datetime                                                                   \n",
       "2011-01-01 00:00:00        81        0.0       3          13     16     0  \n",
       "2011-01-01 01:00:00        80        0.0       8          32     40     1  \n",
       "2011-01-01 02:00:00        80        0.0       5          27     32     2  \n",
       "2011-01-01 03:00:00        75        0.0       3          10     13     3  \n",
       "2011-01-01 04:00:00        75        0.0       0           1      1     4  "
      ]
     },
     "execution_count": 4,
     "metadata": {},
     "output_type": "execute_result"
    }
   ],
   "source": [
    "# Lectura de la información de archivo .csv\n",
    "bikes = pd.read_csv('https://raw.githubusercontent.com/davidzarruk/MIAD_ML_NLP_2023/main/datasets/bikeshare.csv', index_col='datetime', parse_dates=True)\n",
    "\n",
    "# Renombrar variable \"count\" a \"total\"\n",
    "bikes.rename(columns={'count':'total'}, inplace=True)\n",
    "\n",
    "# Crear la hora como una variable \n",
    "bikes['hour'] = bikes.index.hour\n",
    "\n",
    "# Visualización de los datos\n",
    "bikes.head()"
   ]
  },
  {
   "cell_type": "markdown",
   "metadata": {},
   "source": [
    "### Punto 1 - Análisis descriptivo\n",
    "\n",
    "Ejecute las celdas 1.1 y 1.2. A partir de los resultados realice un análisis descriptivo sobre las variables \"season\" y \"hour\", escriba sus inferencias sobre los datos. Para complementar su análisis puede usar métricas como máximo, mínimo, percentiles entre otros."
   ]
  },
  {
   "cell_type": "code",
   "execution_count": 5,
   "metadata": {},
   "outputs": [
    {
     "name": "stdout",
     "output_type": "stream",
     "text": [
      "Estadísticas descriptivas por temporada:\n"
     ]
    },
    {
     "data": {
      "text/html": [
       "<div>\n",
       "<style scoped>\n",
       "    .dataframe tbody tr th:only-of-type {\n",
       "        vertical-align: middle;\n",
       "    }\n",
       "\n",
       "    .dataframe tbody tr th {\n",
       "        vertical-align: top;\n",
       "    }\n",
       "\n",
       "    .dataframe thead th {\n",
       "        text-align: right;\n",
       "    }\n",
       "</style>\n",
       "<table border=\"1\" class=\"dataframe\">\n",
       "  <thead>\n",
       "    <tr style=\"text-align: right;\">\n",
       "      <th></th>\n",
       "      <th>count</th>\n",
       "      <th>mean</th>\n",
       "      <th>std</th>\n",
       "      <th>min</th>\n",
       "      <th>25%</th>\n",
       "      <th>50%</th>\n",
       "      <th>75%</th>\n",
       "      <th>max</th>\n",
       "    </tr>\n",
       "    <tr>\n",
       "      <th>season</th>\n",
       "      <th></th>\n",
       "      <th></th>\n",
       "      <th></th>\n",
       "      <th></th>\n",
       "      <th></th>\n",
       "      <th></th>\n",
       "      <th></th>\n",
       "      <th></th>\n",
       "    </tr>\n",
       "  </thead>\n",
       "  <tbody>\n",
       "    <tr>\n",
       "      <th>1</th>\n",
       "      <td>2686.0</td>\n",
       "      <td>116.343261</td>\n",
       "      <td>125.273974</td>\n",
       "      <td>1.0</td>\n",
       "      <td>24.0</td>\n",
       "      <td>78.0</td>\n",
       "      <td>164.0</td>\n",
       "      <td>801.0</td>\n",
       "    </tr>\n",
       "    <tr>\n",
       "      <th>2</th>\n",
       "      <td>2733.0</td>\n",
       "      <td>215.251372</td>\n",
       "      <td>192.007843</td>\n",
       "      <td>1.0</td>\n",
       "      <td>49.0</td>\n",
       "      <td>172.0</td>\n",
       "      <td>321.0</td>\n",
       "      <td>873.0</td>\n",
       "    </tr>\n",
       "    <tr>\n",
       "      <th>3</th>\n",
       "      <td>2733.0</td>\n",
       "      <td>234.417124</td>\n",
       "      <td>197.151001</td>\n",
       "      <td>1.0</td>\n",
       "      <td>68.0</td>\n",
       "      <td>195.0</td>\n",
       "      <td>347.0</td>\n",
       "      <td>977.0</td>\n",
       "    </tr>\n",
       "    <tr>\n",
       "      <th>4</th>\n",
       "      <td>2734.0</td>\n",
       "      <td>198.988296</td>\n",
       "      <td>177.622409</td>\n",
       "      <td>1.0</td>\n",
       "      <td>51.0</td>\n",
       "      <td>161.0</td>\n",
       "      <td>294.0</td>\n",
       "      <td>948.0</td>\n",
       "    </tr>\n",
       "  </tbody>\n",
       "</table>\n",
       "</div>"
      ],
      "text/plain": [
       "         count        mean         std  min   25%    50%    75%    max\n",
       "season                                                                \n",
       "1       2686.0  116.343261  125.273974  1.0  24.0   78.0  164.0  801.0\n",
       "2       2733.0  215.251372  192.007843  1.0  49.0  172.0  321.0  873.0\n",
       "3       2733.0  234.417124  197.151001  1.0  68.0  195.0  347.0  977.0\n",
       "4       2734.0  198.988296  177.622409  1.0  51.0  161.0  294.0  948.0"
      ]
     },
     "metadata": {},
     "output_type": "display_data"
    }
   ],
   "source": [
    "# Celda 1.1\n",
    "season_stats = bikes.groupby('season')['total'].describe(percentiles=[.25, .50, .75])\n",
    "print(\"Estadísticas descriptivas por temporada:\")\n",
    "display(season_stats)"
   ]
  },
  {
   "cell_type": "markdown",
   "metadata": {},
   "source": [
    " - Podemos concluir que el alquiler de bicicletas es más popular en verano y primavera, siendo el verano un poco más popular que la primavera.\n",
    " - La actividad es alta en otoño, pero menor que en verano.\n",
    " - La cantidad de actividad es menor en invierno, ya que hace más frío y las condiciones climáticas pueden ser menos favorables para el ciclismo.\n",
    " - En todas las temporadas se muestran alquileres  de al menos 1, indicando épocas en las que la demanda es muy baja.\n",
    " - Los picos más altos ocurren en verano y otoño, lo que sugiere días de alta demanda durante estas estaciones.\n",
    " - El invierno es la  más variable de  las estaciones."
   ]
  },
  {
   "cell_type": "code",
   "execution_count": 6,
   "metadata": {
    "scrolled": true
   },
   "outputs": [
    {
     "name": "stdout",
     "output_type": "stream",
     "text": [
      "\n",
      "Estadísticas descriptivas por hora del día:\n",
      "      count        mean         std   min     25%    50%     75%    max\n",
      "hour                                                                   \n",
      "0     455.0   55.138462   43.620012   2.0   24.00   41.0   74.50  283.0\n",
      "1     454.0   33.859031   34.112105   1.0   11.00   19.0   46.00  168.0\n",
      "2     448.0   22.899554   26.110267   1.0    5.00   11.0   32.00  119.0\n",
      "3     433.0   11.757506   12.666442   1.0    3.00    6.0   15.00   66.0\n",
      "4     442.0    6.407240    4.217633   1.0    3.00    6.0    9.00   28.0\n",
      "5     452.0   19.767699   12.784293   1.0    8.00   19.0   29.00   57.0\n",
      "6     455.0   76.259341   54.745333   1.0   24.50   75.0  118.00  213.0\n",
      "7     455.0  213.116484  159.207044   1.0   63.00  208.0  334.00  596.0\n",
      "8     455.0  362.769231  231.723065   8.0  133.50  392.0  563.50  839.0\n",
      "9     455.0  221.780220   92.099209  14.0  161.00  217.0  294.50  414.0\n",
      "10    455.0  175.092308  101.807629  17.0  106.00  149.0  218.50  539.0\n",
      "11    455.0  210.674725  127.444294  10.0  123.00  183.0  265.50  647.0\n",
      "12    456.0  256.508772  143.881880   3.0  157.00  234.5  332.00  757.0\n",
      "13    456.0  257.787281  149.167185  11.0  154.00  226.5  329.00  729.0\n",
      "14    456.0  243.442982  147.563199  12.0  144.00  212.0  311.25  730.0\n",
      "15    456.0  254.298246  144.235670   7.0  154.00  232.0  331.00  724.0\n",
      "16    456.0  316.372807  145.664786  11.0  211.75  309.5  421.00  783.0\n",
      "17    456.0  468.765351  223.775485  15.0  277.00  480.5  608.50  970.0\n",
      "18    456.0  430.859649  219.908138  23.0  240.75  422.5  564.00  977.0\n",
      "19    456.0  315.278509  156.641732  11.0  190.00  312.5  416.00  743.0\n",
      "20    456.0  228.517544  116.411565  11.0  136.75  224.0  302.00  551.0\n",
      "21    456.0  173.370614   87.629319   6.0  103.50  171.5  230.00  584.0\n",
      "22    456.0  133.576754   69.844495   9.0   80.00  129.0  175.00  502.0\n",
      "23    456.0   89.508772   51.638004   4.0   52.75   80.0  123.00  256.0\n"
     ]
    }
   ],
   "source": [
    "# Celda 1.2\n",
    "hour_stats = bikes.groupby('hour')['total'].describe(percentiles=[.25, .50, .75])\n",
    "print(\"\\nEstadísticas descriptivas por hora del día:\")\n",
    "print(hour_stats)"
   ]
  },
  {
   "cell_type": "markdown",
   "metadata": {},
   "source": [
    " - Las horas de madrugada (de 0 a 4) tienen los menores promedios de alquiler, siendo mínimos alrededor de las 3 y 4 de la mañana, lo cual sugiere muy poca actividad en estas horas.\n",
    " - A partir de las 5 de la mañana, el número empieza a aumentar significativamente, alcanzando un primer pico en la hora 8 (362.77). Esto puede deberse a el traslado al trabajo, colegio o universidad.\n",
    " - Después de una disminución en las horas posteriores a la mañana y una estabilización de los viajes hacia medio día y las 15 hotasd, hay un segundo pico aún mayor en las horas de la tarde, particularmente de 17 a 18 (468.77 y 430.86 respectivamente), lo cual probablemente refleja el uso de bicicletas para el viaje de regreso a casa.\n",
    " - Después de las 18, los números comienzan a disminuir nuevamente, pero se permanecen relativamente altos hasta alrededor de las 20 horas, disminuyendo significativamente después de eso.\n",
    " - Todos los percentiles del período coinciden con el promedio de alquiler de cada período."
   ]
  },
  {
   "cell_type": "markdown",
   "metadata": {},
   "source": [
    "### Punto 2 - Análisis de gráficos\n",
    "\n",
    "Primero ejecute la celda 2.1 y asegúrese de comprender el código y el resultado. Luego, en cada una de celdas 2.2 y 2.3 escriba un código que genere una gráfica del número de bicicletas rentadas promedio para cada valor de la variable \"hour\" (hora) cuando la variable \"season\" es igual a 1 (invierno) e igual a 3 (verano), respectivamente. Analice y escriba sus hallazgos."
   ]
  },
  {
   "cell_type": "code",
   "execution_count": 7,
   "metadata": {},
   "outputs": [
    {
     "data": {
      "image/png": "[encoded data removed]",
      "text/plain": [
       "<Figure size 800x500 with 1 Axes>"
      ]
     },
     "metadata": {},
     "output_type": "display_data"
    }
   ],
   "source": [
    "# Celda 2.1 - rentas promedio para cada valor de la variable \"hour\"\n",
    "\n",
    "# DANDOLE CARIÑO A LA GRÁFICA\n",
    "fig, ax = plt.subplots(figsize=(8,5))\n",
    "bikes.groupby('hour').total.mean().plot(ax=ax)\n",
    "\n",
    "ax.set_xlabel('Hora del día')\n",
    "ax.set_ylabel('Número de rentas', ha='left', y=1.03, rotation=0, labelpad=0)\n",
    "ax.set_ylim([0, 500])\n",
    "\n",
    "fig.text(0.02, 0.94, 'Promedio de Alquiler de Bicis por Hora', fontsize=20, weight='bold', ha='left', color='#13388E')\n",
    "fig.text(0.02, 0.89, f'Patrón diario total de alquiler', fontsize=14, ha='left', va='bottom', color='#353535')\n",
    "\n",
    "plt.tight_layout(rect=[0, 0, 1, 0.88])"
   ]
  },
  {
   "cell_type": "markdown",
   "metadata": {},
   "source": [
    " - Las horas punta para el alquiler de bicicletas se corresponden claramente con las horas punta normales de viaje, con un pico de  demanda al inicio y al final de la jornada laboral.\n",
    " - Desde las horas de la madrugada 0 horas y hasta las 5 horas se presenta la reducción de las rentas llegando a su minimo en el día durante la hora 4. \n",
    " - El uso de la bicicleta se mantiene en un nivel moderado durante el día y la noche, probablemente para ocio y actividades  personales.\n",
    " - Estos resultados convellan que se tengan suficientes bicicletas disponibles durante las horas pico. "
   ]
  },
  {
   "cell_type": "code",
   "execution_count": 8,
   "metadata": {},
   "outputs": [
    {
     "data": {
      "image/png": "[encoded data removed]",
      "text/plain": [
       "<Figure size 800x500 with 1 Axes>"
      ]
     },
     "metadata": {},
     "output_type": "display_data"
    }
   ],
   "source": [
    "season_1 = bikes[bikes['season'] == 1].groupby('hour').total.mean()\n",
    "season_3 = bikes[bikes['season'] == 3].groupby('hour').total.mean()\n",
    "\n",
    "# Ahora generamos la gráfica con los promedios calculados\n",
    "fig, ax = plt.subplots(figsize=(8,5))\n",
    "\n",
    "# Gráfico para la temporada 1\n",
    "season_1.plot(ax=ax, label='Invierno')\n",
    "\n",
    "# Gráfico para la temporada 3\n",
    "season_3.plot(ax=ax, label='Verano')\n",
    "\n",
    "# Configuraciones adicionales del gráfico\n",
    "ax.set_xlabel('Hora del día')\n",
    "ax.set_ylabel('Número de rentas', ha='left', y=1.03, rotation=0, labelpad=0)\n",
    "ax.set_ylim([0, 600])\n",
    "ax.legend()\n",
    "\n",
    "# Título y subtítulo\n",
    "fig.text(0.02, 0.94, 'Promedio de Alquiler de Bicis por Hora', fontsize=20, weight='bold', ha='left', color='#13388E')\n",
    "fig.text(0.02, 0.89, f'Patrón diario de alquiler para invierno y verano', fontsize=14, ha='left', va='bottom', color='#353535')\n",
    "\n",
    "# Mostrar el gráfico\n",
    "plt.tight_layout(rect=[0, 0, 1, 0.88])\n",
    "plt.show()"
   ]
  },
  {
   "cell_type": "markdown",
   "metadata": {},
   "source": [
    " - Picos de demanda: Se distinguen dos picos de demanda en el alquiler de bicicletas, tanto en invierno como en verano. Estos picos ocurren alrededor de las 8 horas. y entre las 17 y las 18 horas, lo que sugiere patrones de desplazamiento asociados con el inicio y el final del día laboral o escolar. Siendo claramente mayor en verano que invierno.\n",
    " - Diferencias estacionales: Las bicicletas se utilizan con mucha más frecuencia en verano que en  invierno, y esto se refleja en los precios medios de alquiler más elevados en casi todas las horas del día. Esto puede deberse a las condiciones climáticas  favorables para el ciclismo.\n",
    " - Alquiler en madrugadas y noche: Aunque hay menos actividad en las horas de la noche y de la madrugada, es interesante observar que incluso durante estas horas los alquileres de verano son más altos que los de invierno.\n",
    " - Actividades diarias: Durante los meses de verano,  hay un aumento significativo de alquileres desde media mañana hasta media tarde, además de las horas pico de la mañana y la tarde. Puede indicar que  las bicicletas se utilizan no sólo como medio de transporte en verano, sino también para el esparcimiento durante el día.\n",
    " - Disminución por la tarde: Después del pico de la tarde, el número de alquileres disminuye gradualmente a lo largo de la noche, lo que se vuelve más pronunciado en invierno, probablemente por temas de condiciones climáticas.\n",
    " "
   ]
  },
  {
   "cell_type": "markdown",
   "metadata": {},
   "source": [
    "### Punto 3 - Regresión lineal\n",
    "En la celda 3 ajuste un modelo de regresión lineal a todo el conjunto de datos, utilizando \"total\" como variable de respuesta y \"season\" y \"hour\" como las únicas variables predictoras, teniendo en cuenta que la variable \"season\" es categórica. Luego, imprima los coeficientes e interprételos. ¿Cuáles son las limitaciones de la regresión lineal en este caso?"
   ]
  },
  {
   "cell_type": "code",
   "execution_count": 28,
   "metadata": {},
   "outputs": [
    {
     "name": "stdout",
     "output_type": "stream",
     "text": [
      "Coeficientes e intercepto:  [ 10.56961908  99.10667072 116.04634     84.944802  ] -5.9195473419623\n",
      "\n",
      "Linear Regressión:\n",
      "MSE: 25409.92 R2: 0.23\n"
     ]
    }
   ],
   "source": [
    "# Celda 3\n",
    "from sklearn.preprocessing import OneHotEncoder\n",
    "from sklearn.model_selection import train_test_split\n",
    "from sklearn.metrics import mean_squared_error, r2_score\n",
    "\n",
    "X = bikes[['season', 'hour']]\n",
    "y = bikes['total']\n",
    "\n",
    "# Convertir la variable \"season\" a variables dummy\n",
    "encoder = OneHotEncoder(drop='first', sparse=False)\n",
    "dummies = encoder.fit_transform(X['season'].to_numpy().reshape(-1, 1))\n",
    "dummies_df = pd.DataFrame(dummies, columns=[f\"season_{i}\" for i in range(1, len(encoder.categories_[0]))], index=X.index)\n",
    "\n",
    "# Concatenar las variables dummy con la variable 'hour'\n",
    "X = pd.concat([X[['hour']], dummies_df], axis=1)\n",
    "\n",
    "X_train, X_test, y_train, y_test = train_test_split(X, y, test_size=0.2, random_state=42)\n",
    "\n",
    "\n",
    "# Crear el modelo de regresión lineal\n",
    "model = LinearRegression()\n",
    "model.fit(X_train, y_train)\n",
    "\n",
    "# Coeficientes de la regresión\n",
    "coefs = model.coef_\n",
    "intercept = model.intercept_\n",
    "print('Coeficientes e intercepto: ',coefs, intercept)\n",
    "\n",
    "# Predicciones\n",
    "y_pred = model.predict(X_test)\n",
    "\n",
    "# Cálculos de MSE y R2\n",
    "lr_mse = mean_squared_error(y_test, y_pred)\n",
    "lr_r2 = r2_score(y_test, y_pred)\n",
    "\n",
    "print('\\nLinear Regressión:')\n",
    "print(f'MSE: {lr_mse:.2f}', f'R2: {lr_r2:.2f}')"
   ]
  },
  {
   "cell_type": "markdown",
   "metadata": {},
   "source": [
    "Interpretación Coefs.\n",
    "\n",
    "- El coeficiente de 10.57 es de 'hour', lo que significa que por cada hora adicional del día, se espera, en promedio, un aumento de 10.5452 alquileres, asumiendo que todo lo demás se mantiene constante.\n",
    "- Temporada 2 (Primavera): Aumenta en 99.11 alquileres en promedio en comparación con la Temporada 1 (Invierno).\n",
    "- Temporada 3 (Verano): Aumenta en 116.05 alquileres en promedio en comparación con la Temporada 1.\n",
    "- Temporada 4 (Otoño): Aumenta en 84.94 alquileres en promedio en comparación con la Temporada 1.\n",
    "\n",
    "¿Cuáles son las limitaciones de la regresión lineal en este caso? \n",
    "\n",
    "- El intercepto del modelo es -5.92, que teóricamente representa el número de alquileres cuando la hora es 0 y es la temporada de referencia (invierno). Sin embargo, este valor no tiene mucho sentido práctico en este contexto, ya que no podemos tener una cantidad negativa de alquileres.\n",
    " - La regresión lineal asume una relación lineal entre las variables predictoras y la variable de respuesta. En la vida real, el número de alquileres de bicicletas puede no seguir una relación lineal estricta con la hora del día o la temporada.\n",
    " - La varianza de los errores residuales debe ser constante para todas las predicciones. Esto puede no ser cierto para datos de alquiler de bicicletas, donde podríamos ver más variabilidad en ciertas horas del día o temporadas del año.\n",
    " - Al convertir \"season\" en variables dummy, estamos imponiendo una estructura que no considera el orden natural de las temporadas, y esto podría no capturar completamente la naturaleza cíclica de los datos."
   ]
  },
  {
   "cell_type": "markdown",
   "metadata": {},
   "source": [
    "### Punto 4 - Árbol de decisión manual\n",
    "En la celda 4 cree un árbol de decisiones para pronosticar la variable \"total\" iterando **manualmente** sobre las variables \"hour\" y  \"season\". El árbol debe tener al menos 6 nodos finales."
   ]
  },
  {
   "cell_type": "code",
   "execution_count": 30,
   "metadata": {},
   "outputs": [
    {
     "name": "stdout",
     "output_type": "stream",
     "text": [
      "Manual Tree:\n",
      "MSE: 22826.30 R2: 0.31\n"
     ]
    }
   ],
   "source": [
    "# Celda 4\n",
    "\n",
    "# Definición de la función que calcula el mse\n",
    "def mse(y):\n",
    "    if y.shape[0] > 0:\n",
    "        mean_y = np.mean(y)\n",
    "        mse = np.mean((y - mean_y) ** 2)\n",
    "        return mse\n",
    "    else:\n",
    "        return 0\n",
    "    \n",
    "# Def que encuentra el mejor corte\n",
    "def best_split(X, y, num_pct=10):\n",
    "\n",
    "    # Variables de seguimiento\n",
    "    best_mse = np.inf\n",
    "\n",
    "    for j in range(X.shape[1]):\n",
    "        splits = np.percentile(X.iloc[:, j], np.linspace(0, 100, num_pct+1)[1:-1])\n",
    "        for split in splits:\n",
    "            left_mask = X.iloc[:, j] < split\n",
    "            mse_left = mse(y[left_mask])\n",
    "            mse_right = mse(y[~left_mask])\n",
    "            mse_total = mse_left + mse_right\n",
    "\n",
    "            if mse_total < best_mse:\n",
    "                best_mse = mse_total\n",
    "                best_var = j\n",
    "                best_value = split\n",
    "\n",
    "    return best_var, best_value, best_mse\n",
    "\n",
    "def tree_grow(X, y, depth=0, max_depth=None, min_samples_leaf=1, num_pct=10):\n",
    "\n",
    "    if depth == max_depth or len(y) <= min_samples_leaf:\n",
    "        return {'prediction': np.mean(y)}\n",
    "\n",
    "    j, split, mse_ = best_split(X, y, num_pct)\n",
    "\n",
    "    if j is None:  # Asegúrate de que siempre haya un nodo con 'prediction' si no hay división\n",
    "        return {'prediction': np.mean(y)}\n",
    "\n",
    "    left_mask = X.iloc[:, j] < split\n",
    "    right_mask = ~left_mask\n",
    "    left = tree_grow(X[left_mask], y[left_mask], depth+1, max_depth, min_samples_leaf, num_pct)\n",
    "    right = tree_grow(X[right_mask], y[right_mask], depth+1, max_depth, min_samples_leaf, num_pct)\n",
    "\n",
    "    return {\n",
    "        'variable': X.columns[j],\n",
    "        'split': split,\n",
    "        'mse': mse_,\n",
    "        'left': left,\n",
    "        'right': right\n",
    "    }\n",
    "\n",
    "def predict_tree(node, X):\n",
    "    if 'variable' not in node:\n",
    "        return node['prediction']\n",
    "    if X[node['variable']] < node['split']:\n",
    "        return predict_tree(node['left'], X)\n",
    "    else:\n",
    "        return predict_tree(node['right'], X)\n",
    "\n",
    "def predict_tree_df(node, X_df):\n",
    "    return X_df.apply(lambda row: predict_tree(node, row), axis=1)\n",
    "\n",
    "tree = tree_grow(X_train, y_train, max_depth=6, min_samples_leaf=10, num_pct=10)\n",
    "\n",
    "y_pred = predict_tree_df(tree, X_test)\n",
    "\n",
    "manual_tree_mse = mean_squared_error(y_test, y_pred)\n",
    "manual_tree_r2 = r2_score(y_test, y_pred)\n",
    "\n",
    "print('Manual Tree:')\n",
    "print(f'MSE: {manual_tree_mse:.2f}', f'R2: {manual_tree_r2:.2f}')"
   ]
  },
  {
   "cell_type": "markdown",
   "metadata": {},
   "source": [
    "### Punto 5 - Árbol de decisión con librería\n",
    "En la celda 5 entrene un árbol de decisiones con la **librería sklearn**, usando las variables predictoras \"season\" y \"hour\" y calibre los parámetros que considere conveniente para obtener un mejor desempeño. Recuerde dividir los datos en conjuntos de entrenamiento y validación para esto. Comente el desempeño del modelo con alguna métrica de desempeño de modelos de regresión y compare desempeño con el modelo del punto 3."
   ]
  },
  {
   "cell_type": "code",
   "execution_count": 31,
   "metadata": {},
   "outputs": [
    {
     "name": "stdout",
     "output_type": "stream",
     "text": [
      "Mejores parámetros: {'max_depth': 9, 'min_samples_leaf': 1, 'min_samples_split': 2}\n",
      "Sklearn Tree:\n",
      "MSE: 13455.27 R2: 0.59\n"
     ]
    }
   ],
   "source": [
    "# Celda 5\n",
    "from sklearn.model_selection import GridSearchCV\n",
    "\n",
    "tree = DecisionTreeRegressor(random_state=42)\n",
    "param_grid = {\n",
    "    'max_depth': range(3, 10),\n",
    "    'min_samples_split': range(2, 10),\n",
    "    'min_samples_leaf': range(1, 10)\n",
    "}\n",
    "\n",
    "grid = GridSearchCV(tree, param_grid, cv=5, scoring='neg_mean_squared_error')\n",
    "grid.fit(X_train, y_train)\n",
    "print(\"Mejores parámetros:\", grid.best_params_)\n",
    "\n",
    "y_pred = grid.best_estimator_.predict(X_test)\n",
    "\n",
    "# Calcular el error cuadrático medio y el coeficiente de determinación R²\n",
    "sk_tree_mse = mean_squared_error(y_test, y_pred)\n",
    "sk_tree_r2 = r2_score(y_test, y_pred)\n",
    "\n",
    "print('Sklearn Tree:')\n",
    "print(f'MSE: {sk_tree_mse:.2f}', f'R2: {sk_tree_r2:.2f}')"
   ]
  },
  {
   "cell_type": "markdown",
   "metadata": {},
   "source": [
    "La regresión lineal, siendo el modelo más simple de los tres, presenta el peor desempeño tanto en MSE como en R². Esto puede indicar que la relación entre las variables predictoras (`season` y `hour`) y la variable objetivo (`total`) no es estrictamente lineal, o que el modelo no captura suficientemente la complejidad de los datos. Un bajo R² de 0.23 significa que solo el 23% de la variabilidad en los datos de alquiler de bicicletas se explica por el modelo, lo que es bastante bajo.\n",
    "\n",
    "El árbol de decisión manual mejora ligeramente sobre la regresión lineal en términos de MSE y R², lo que sugiere que este enfoque puede capturar mejor las no linealidades y las interacciones entre las variables. Un R² de 0.31 implica que el modelo manual puede explicar aproximadamente el 31% de la variabilidad en los datos, lo cual sigue siendo modesto, pero es una mejora respecto a la regresión lineal.\n",
    "\n",
    "El árbol de decisión implementado con scikit-learn supera claramente a los otros dos modelos, tanto en términos de MSE como de R². Este modelo ha reducido el MSE considerablemente a 13455.27 y ha aumentado el R² a 0.59, indicando que ahora puede explicar el 59% de la variabilidad en los datos. \n",
    "\n",
    "Estos resultados subrayan la importancia de elegir el modelo adecuado y de ajustar cuidadosamente los parámetros del modelo, especialmente cuando se trabaja con datos complejos o relaciones no lineales."
   ]
  },
  {
   "cell_type": "markdown",
   "metadata": {},
   "source": [
    "## Parte B - Métodos de ensamblajes\n",
    "En esta parte del taller se usará el conjunto de datos de Popularidad de Noticias Online. El objetivo es predecir si la notica es popular o no, la popularidad está dada por la cantidad de reacciones en redes sociales. Para más detalles puede visitar el siguiente enlace: [datos](https://archive.ics.uci.edu/ml/datasets/online+news+popularity)."
   ]
  },
  {
   "cell_type": "markdown",
   "metadata": {},
   "source": [
    "### Datos popularidad de noticias"
   ]
  },
  {
   "cell_type": "code",
   "execution_count": 32,
   "metadata": {},
   "outputs": [
    {
     "data": {
      "text/html": [
       "<div>\n",
       "<style scoped>\n",
       "    .dataframe tbody tr th:only-of-type {\n",
       "        vertical-align: middle;\n",
       "    }\n",
       "\n",
       "    .dataframe tbody tr th {\n",
       "        vertical-align: top;\n",
       "    }\n",
       "\n",
       "    .dataframe thead th {\n",
       "        text-align: right;\n",
       "    }\n",
       "</style>\n",
       "<table border=\"1\" class=\"dataframe\">\n",
       "  <thead>\n",
       "    <tr style=\"text-align: right;\">\n",
       "      <th></th>\n",
       "      <th>url</th>\n",
       "      <th>timedelta</th>\n",
       "      <th>n_tokens_title</th>\n",
       "      <th>n_tokens_content</th>\n",
       "      <th>n_unique_tokens</th>\n",
       "      <th>n_non_stop_words</th>\n",
       "      <th>n_non_stop_unique_tokens</th>\n",
       "      <th>num_hrefs</th>\n",
       "      <th>num_self_hrefs</th>\n",
       "      <th>num_imgs</th>\n",
       "      <th>...</th>\n",
       "      <th>min_positive_polarity</th>\n",
       "      <th>max_positive_polarity</th>\n",
       "      <th>avg_negative_polarity</th>\n",
       "      <th>min_negative_polarity</th>\n",
       "      <th>max_negative_polarity</th>\n",
       "      <th>title_subjectivity</th>\n",
       "      <th>title_sentiment_polarity</th>\n",
       "      <th>abs_title_subjectivity</th>\n",
       "      <th>abs_title_sentiment_polarity</th>\n",
       "      <th>Popular</th>\n",
       "    </tr>\n",
       "  </thead>\n",
       "  <tbody>\n",
       "    <tr>\n",
       "      <th>0</th>\n",
       "      <td>http://mashable.com/2014/12/10/cia-torture-rep...</td>\n",
       "      <td>28.0</td>\n",
       "      <td>9.0</td>\n",
       "      <td>188.0</td>\n",
       "      <td>0.732620</td>\n",
       "      <td>1.0</td>\n",
       "      <td>0.844262</td>\n",
       "      <td>5.0</td>\n",
       "      <td>1.0</td>\n",
       "      <td>1.0</td>\n",
       "      <td>...</td>\n",
       "      <td>0.200000</td>\n",
       "      <td>0.80</td>\n",
       "      <td>-0.487500</td>\n",
       "      <td>-0.60</td>\n",
       "      <td>-0.250000</td>\n",
       "      <td>0.9</td>\n",
       "      <td>0.8</td>\n",
       "      <td>0.4</td>\n",
       "      <td>0.8</td>\n",
       "      <td>1</td>\n",
       "    </tr>\n",
       "    <tr>\n",
       "      <th>1</th>\n",
       "      <td>http://mashable.com/2013/10/18/bitlock-kicksta...</td>\n",
       "      <td>447.0</td>\n",
       "      <td>7.0</td>\n",
       "      <td>297.0</td>\n",
       "      <td>0.653199</td>\n",
       "      <td>1.0</td>\n",
       "      <td>0.815789</td>\n",
       "      <td>9.0</td>\n",
       "      <td>4.0</td>\n",
       "      <td>1.0</td>\n",
       "      <td>...</td>\n",
       "      <td>0.160000</td>\n",
       "      <td>0.50</td>\n",
       "      <td>-0.135340</td>\n",
       "      <td>-0.40</td>\n",
       "      <td>-0.050000</td>\n",
       "      <td>0.1</td>\n",
       "      <td>-0.1</td>\n",
       "      <td>0.4</td>\n",
       "      <td>0.1</td>\n",
       "      <td>0</td>\n",
       "    </tr>\n",
       "    <tr>\n",
       "      <th>2</th>\n",
       "      <td>http://mashable.com/2013/07/24/google-glass-po...</td>\n",
       "      <td>533.0</td>\n",
       "      <td>11.0</td>\n",
       "      <td>181.0</td>\n",
       "      <td>0.660377</td>\n",
       "      <td>1.0</td>\n",
       "      <td>0.775701</td>\n",
       "      <td>4.0</td>\n",
       "      <td>3.0</td>\n",
       "      <td>1.0</td>\n",
       "      <td>...</td>\n",
       "      <td>0.136364</td>\n",
       "      <td>1.00</td>\n",
       "      <td>0.000000</td>\n",
       "      <td>0.00</td>\n",
       "      <td>0.000000</td>\n",
       "      <td>0.3</td>\n",
       "      <td>1.0</td>\n",
       "      <td>0.2</td>\n",
       "      <td>1.0</td>\n",
       "      <td>0</td>\n",
       "    </tr>\n",
       "    <tr>\n",
       "      <th>3</th>\n",
       "      <td>http://mashable.com/2013/11/21/these-are-the-m...</td>\n",
       "      <td>413.0</td>\n",
       "      <td>12.0</td>\n",
       "      <td>781.0</td>\n",
       "      <td>0.497409</td>\n",
       "      <td>1.0</td>\n",
       "      <td>0.677350</td>\n",
       "      <td>10.0</td>\n",
       "      <td>3.0</td>\n",
       "      <td>1.0</td>\n",
       "      <td>...</td>\n",
       "      <td>0.100000</td>\n",
       "      <td>1.00</td>\n",
       "      <td>-0.195701</td>\n",
       "      <td>-0.40</td>\n",
       "      <td>-0.071429</td>\n",
       "      <td>0.0</td>\n",
       "      <td>0.0</td>\n",
       "      <td>0.5</td>\n",
       "      <td>0.0</td>\n",
       "      <td>0</td>\n",
       "    </tr>\n",
       "    <tr>\n",
       "      <th>4</th>\n",
       "      <td>http://mashable.com/2014/02/11/parking-ticket-...</td>\n",
       "      <td>331.0</td>\n",
       "      <td>8.0</td>\n",
       "      <td>177.0</td>\n",
       "      <td>0.685714</td>\n",
       "      <td>1.0</td>\n",
       "      <td>0.830357</td>\n",
       "      <td>3.0</td>\n",
       "      <td>2.0</td>\n",
       "      <td>1.0</td>\n",
       "      <td>...</td>\n",
       "      <td>0.100000</td>\n",
       "      <td>0.55</td>\n",
       "      <td>-0.175000</td>\n",
       "      <td>-0.25</td>\n",
       "      <td>-0.100000</td>\n",
       "      <td>0.0</td>\n",
       "      <td>0.0</td>\n",
       "      <td>0.5</td>\n",
       "      <td>0.0</td>\n",
       "      <td>0</td>\n",
       "    </tr>\n",
       "  </tbody>\n",
       "</table>\n",
       "<p>5 rows × 61 columns</p>\n",
       "</div>"
      ],
      "text/plain": [
       "                                                 url  timedelta  \\\n",
       "0  http://mashable.com/2014/12/10/cia-torture-rep...       28.0   \n",
       "1  http://mashable.com/2013/10/18/bitlock-kicksta...      447.0   \n",
       "2  http://mashable.com/2013/07/24/google-glass-po...      533.0   \n",
       "3  http://mashable.com/2013/11/21/these-are-the-m...      413.0   \n",
       "4  http://mashable.com/2014/02/11/parking-ticket-...      331.0   \n",
       "\n",
       "   n_tokens_title  n_tokens_content  n_unique_tokens  n_non_stop_words  \\\n",
       "0             9.0             188.0         0.732620               1.0   \n",
       "1             7.0             297.0         0.653199               1.0   \n",
       "2            11.0             181.0         0.660377               1.0   \n",
       "3            12.0             781.0         0.497409               1.0   \n",
       "4             8.0             177.0         0.685714               1.0   \n",
       "\n",
       "   n_non_stop_unique_tokens  num_hrefs  num_self_hrefs  num_imgs  ...  \\\n",
       "0                  0.844262        5.0             1.0       1.0  ...   \n",
       "1                  0.815789        9.0             4.0       1.0  ...   \n",
       "2                  0.775701        4.0             3.0       1.0  ...   \n",
       "3                  0.677350       10.0             3.0       1.0  ...   \n",
       "4                  0.830357        3.0             2.0       1.0  ...   \n",
       "\n",
       "   min_positive_polarity  max_positive_polarity  avg_negative_polarity  \\\n",
       "0               0.200000                   0.80              -0.487500   \n",
       "1               0.160000                   0.50              -0.135340   \n",
       "2               0.136364                   1.00               0.000000   \n",
       "3               0.100000                   1.00              -0.195701   \n",
       "4               0.100000                   0.55              -0.175000   \n",
       "\n",
       "   min_negative_polarity  max_negative_polarity  title_subjectivity  \\\n",
       "0                  -0.60              -0.250000                 0.9   \n",
       "1                  -0.40              -0.050000                 0.1   \n",
       "2                   0.00               0.000000                 0.3   \n",
       "3                  -0.40              -0.071429                 0.0   \n",
       "4                  -0.25              -0.100000                 0.0   \n",
       "\n",
       "   title_sentiment_polarity  abs_title_subjectivity  \\\n",
       "0                       0.8                     0.4   \n",
       "1                      -0.1                     0.4   \n",
       "2                       1.0                     0.2   \n",
       "3                       0.0                     0.5   \n",
       "4                       0.0                     0.5   \n",
       "\n",
       "   abs_title_sentiment_polarity  Popular  \n",
       "0                           0.8        1  \n",
       "1                           0.1        0  \n",
       "2                           1.0        0  \n",
       "3                           0.0        0  \n",
       "4                           0.0        0  \n",
       "\n",
       "[5 rows x 61 columns]"
      ]
     },
     "execution_count": 32,
     "metadata": {},
     "output_type": "execute_result"
    }
   ],
   "source": [
    "# Lectura de la información de archivo .csv\n",
    "df = pd.read_csv('https://raw.githubusercontent.com/davidzarruk/MIAD_ML_NLP_2023/main/datasets/mashable.csv', index_col=0)\n",
    "df.head()"
   ]
  },
  {
   "cell_type": "code",
   "execution_count": 33,
   "metadata": {},
   "outputs": [
    {
     "data": {
      "text/plain": [
       "0.5"
      ]
     },
     "execution_count": 33,
     "metadata": {},
     "output_type": "execute_result"
    }
   ],
   "source": [
    "# Definición variable de interes y variables predictoras\n",
    "X = df.drop(['url', 'Popular'], axis=1)\n",
    "y = df['Popular']\n",
    "y.mean()"
   ]
  },
  {
   "cell_type": "code",
   "execution_count": 34,
   "metadata": {},
   "outputs": [],
   "source": [
    "# División de la muestra en set de entrenamiento y prueba\n",
    "from sklearn.model_selection import train_test_split\n",
    "X_train, X_test, y_train, y_test = train_test_split(X, y, random_state=1)"
   ]
  },
  {
   "cell_type": "markdown",
   "metadata": {},
   "source": [
    "### Punto 6 - Árbol de decisión y regresión logística\n",
    "En la celda 6 construya un árbol de decisión y una regresión logística. Para el árbol calibre al menos un parámetro y evalúe el desempeño de cada modelo usando las métricas de Accuracy y F1-Score."
   ]
  },
  {
   "cell_type": "code",
   "execution_count": 36,
   "metadata": {},
   "outputs": [],
   "source": [
    "# Celda 6\n",
    "from sklearn.tree import DecisionTreeClassifier\n",
    "from sklearn.linear_model import LogisticRegression\n",
    "from sklearn.metrics import accuracy_score, f1_score"
   ]
  },
  {
   "cell_type": "code",
   "execution_count": 37,
   "metadata": {},
   "outputs": [],
   "source": [
    "# Modelo de Árbol\n",
    "dt = DecisionTreeClassifier(random_state=1)\n",
    "param_grid_dt = {\n",
    "    'max_depth': [None, 10, 20, 30],\n",
    "    'min_samples_split': [2, 10, 20]\n",
    "}\n",
    "\n",
    "grid_dt = GridSearchCV(dt, param_grid_dt, cv=5, scoring='accuracy')\n",
    "grid_dt.fit(X_train, y_train)\n",
    "\n",
    "best_dt = grid_dt.best_estimator_\n",
    "y_pred_dt = best_dt.predict(X_test)\n",
    "\n",
    "# Evaluación del Árbol de Decisión\n",
    "accuracy_dt = accuracy_score(y_test, y_pred_dt)\n",
    "f1_dt = f1_score(y_test, y_pred_dt)"
   ]
  },
  {
   "cell_type": "code",
   "execution_count": 40,
   "metadata": {},
   "outputs": [
    {
     "name": "stdout",
     "output_type": "stream",
     "text": [
      "DecisionTree: 0.5713333333333334 0.5821962313190383\n",
      "LogisticRegression: 0.6146666666666667 0.6035665294924554\n"
     ]
    }
   ],
   "source": [
    "# Modelo de Regresión Logística\n",
    "lr = LogisticRegression(random_state=1, max_iter=1000)\n",
    "lr.fit(X_train, y_train)\n",
    "\n",
    "y_pred_lr = lr.predict(X_test)\n",
    "\n",
    "# Evaluación de la Regresión Logística\n",
    "accuracy_lr = accuracy_score(y_test, y_pred_lr)\n",
    "f1_lr = f1_score(y_test, y_pred_lr)\n",
    "\n",
    "# Resultados\n",
    "print('DecisionTree:', accuracy_dt, f1_dt,)\n",
    "print('LogisticRegression:', accuracy_lr, f1_lr)"
   ]
  },
  {
   "cell_type": "markdown",
   "metadata": {},
   "source": [
    "### Punto 7 - Votación Mayoritaria\n",
    "En la celda 7 elabore un esamble con la metodología de **Votación mayoritaria** compuesto por 300 muestras bagged donde:\n",
    "\n",
    "-las primeras 100 muestras vienen de árboles de decisión donde max_depth tome un valor de su elección\\\n",
    "-las segundas 100 muestras vienen de árboles de decisión donde min_samples_leaf tome un valor de su elección\\\n",
    "-las últimas 100 muestras vienen de regresiones logísticas\n",
    "\n",
    "Evalúe cada uno de los tres modelos de manera independiente utilizando las métricas de Accuracy y F1-Score, luego evalúe el ensamble de modelos y compare los resultados. \n",
    "\n",
    "Nota: \n",
    "\n",
    "Para este ensamble de 300 modelos, deben hacer votación mayoritaria. Esto lo pueden hacer de distintas maneras. La más \"fácil\" es haciendo la votación \"manualmente\", como se hace a partir del minuto 5:45 del video de Ejemplo práctico de emsablajes en Coursera. Digo que es la más fácil porque si hacen la votación mayoritaria sobre las 300 predicciones van a obtener lo que se espera.\n",
    "\n",
    "Otra opción es: para cada uno de los 3 tipos de modelos, entrenar un ensamble de 100 modelos cada uno. Predecir para cada uno de esos tres ensambles y luego predecir como un ensamble de los 3 ensambles. La cuestión es que la votación mayoritaria al usar los 3 ensambles no necesariamente va a generar el mismo resultado que si hacen la votación mayoritaria directamente sobre los 300 modelos. Entonces, para los que quieran hacer esto, deben hacer ese último cálculo con cuidado.\n",
    "\n",
    "Para los que quieran hacerlo como ensamble de ensambles, digo que se debe hacer el ensamble final con cuidado por lo siguiente. Supongamos que:\n",
    "\n",
    "* para los 100 árboles del primer tipo, la votación mayoritaria es: 55% de los modelos predicen que la clase de una observación es \"1\"\n",
    "* para los 100 árboles del segundo tipo, la votación mayoritaria es: 55% de los modelos predicen que la clase de una observación es \"1\"\n",
    "* para las 100 regresiones logísticas, la votación mayoritaria es: 10% de los modelos predicen que la clase de una observación es \"1\"\n",
    "\n",
    "Si se hace la votación mayoritaria de los 300 modelos, la predicción de esa observación debería ser: (100* 55%+100* 55%+100* 10%)/300 = 40% de los modelos votan porque la predicción debería ser \"1\". Es decir, la predicción del ensamble es \"0\" (dado que menos del 50% de modelos predijo un 1).\n",
    "\n",
    "Sin embargo, si miramos cada ensamble por separado, el primer ensamble predice \"1\", el segundo ensamble predice \"1\" y el último ensamble predice \"0\". Si hago votación mayoritaria sobre esto, la predicción va a ser \"1\", lo cual es distinto a si se hace la votación mayoritaria sobre los 300 modelos."
   ]
  },
  {
   "cell_type": "code",
   "execution_count": 43,
   "metadata": {},
   "outputs": [
    {
     "name": "stdout",
     "output_type": "stream",
     "text": [
      "Tree Max Depth - Accuracy: 0.65, F1-Score: 0.65\n",
      "Tree Min Samples Leaf - Accuracy: 0.66, F1-Score: 0.66\n",
      "Logistic Regression - Accuracy: 0.62, F1-Score: 0.60\n",
      "Votación mayoritaria - Accuracy: 0.65, F1-Score: 0.65\n"
     ]
    }
   ],
   "source": [
    "# Celda 7\n",
    "from sklearn.ensemble import BaggingClassifier\n",
    "\n",
    "# Árbol de decisión con max_depth\n",
    "tree_depth = BaggingClassifier(base_estimator=DecisionTreeClassifier(max_depth=10),\n",
    "                                n_estimators=100, random_state=1, oob_score=True, bootstrap=True, n_jobs=-1 ).fit(X_train, y_train)\n",
    "\n",
    "# Árbol de decisión con min_samples_leaf\n",
    "tree_leaf = BaggingClassifier(base_estimator=DecisionTreeClassifier(min_samples_leaf=20),\n",
    "                               n_estimators=100, random_state=1, oob_score=True, bootstrap=True, n_jobs=-1 ).fit(X_train, y_train)\n",
    "\n",
    "# Regresión logística\n",
    "logistic = BaggingClassifier(base_estimator=LogisticRegression(max_iter=1000),\n",
    "                              n_estimators=100, random_state=1, oob_score=True, bootstrap=True, n_jobs=-1 ).fit(X_train, y_train)\n",
    "\n",
    "# Evaluaciones individuales\n",
    "for model, name in zip([tree_depth, tree_leaf, logistic], \n",
    "                       [\"Tree Max Depth\", \"Tree Min Samples Leaf\", \"Logistic Regression\"]):\n",
    "    y_pred = model.predict(X_test)\n",
    "    print(f\"{name} - Accuracy: {accuracy_score(y_test, y_pred):.2f}, F1-Score: {f1_score(y_test, y_pred):.2f}\")\n",
    "\n",
    "# Votación mayoritaria\n",
    "y_pred_majority = np.round((tree_depth.predict_proba(X_test)[:, 1] +\n",
    "                            tree_leaf.predict_proba(X_test)[:, 1] +\n",
    "                            logistic.predict_proba(X_test)[:, 1]) / 3)\n",
    "\n",
    "print(f\"Votación mayoritaria - Accuracy: {accuracy_score(y_test, y_pred_majority):.2f}, F1-Score: {f1_score(y_test, y_pred_majority):.2f}\")"
   ]
  },
  {
   "cell_type": "markdown",
   "metadata": {},
   "source": [
    "### Punto 8 - Votación Ponderada\n",
    "En la celda 8 elabore un ensamble con la metodología de **Votación ponderada** compuesto por 300 muestras bagged para los mismos tres escenarios del punto 7. Evalúe los modelos utilizando las métricas de Accuracy y F1-Score"
   ]
  },
  {
   "cell_type": "code",
   "execution_count": 44,
   "metadata": {},
   "outputs": [
    {
     "name": "stdout",
     "output_type": "stream",
     "text": [
      "Votación Ponderada - F1 Score: 0.6538716082064858 Accuracy: 0.6513333333333333\n"
     ]
    }
   ],
   "source": [
    "# Celda 8\n",
    "\n",
    "# Obtención de errores OOB\n",
    "errors_depth = 1 - tree_depth.oob_score_\n",
    "errors_leaf = 1 - tree_leaf.oob_score_\n",
    "errors_logistic = 1 - logistic.oob_score_\n",
    "\n",
    "# Cálculo de pesos alfa\n",
    "alpha_depth = (1 - errors_depth) / (1 - errors_depth + 1 - errors_leaf + 1 - errors_logistic)\n",
    "alpha_leaf = (1 - errors_leaf) / (1 - errors_depth + 1 - errors_leaf + 1 - errors_logistic)\n",
    "alpha_logistic = (1 - errors_logistic) / (1 - errors_depth + 1 - errors_leaf + 1 - errors_logistic)\n",
    "\n",
    "# Predicción de cada modelo\n",
    "y_pred_depth = tree_depth.predict_proba(X_test)[:, 1]\n",
    "y_pred_leaf = tree_leaf.predict_proba(X_test)[:, 1]\n",
    "y_pred_logistic = logistic.predict_proba(X_test)[:, 1]\n",
    "\n",
    "# Votación ponderada\n",
    "y_pred_weighted = (alpha_depth * y_pred_depth + alpha_leaf * y_pred_leaf + alpha_logistic * y_pred_logistic)\n",
    "y_pred_final = (y_pred_weighted >= 0.5).astype(int)\n",
    "\n",
    "# Evaluación\n",
    "f1_weighted = f1_score(y_test, y_pred_final)\n",
    "accuracy_weighted = accuracy_score(y_test, y_pred_final)\n",
    "\n",
    "# Imprimir resultados\n",
    "print(\"Votación Ponderada - F1 Score:\", f1_weighted, \"Accuracy:\", accuracy_weighted)\n"
   ]
  },
  {
   "cell_type": "markdown",
   "metadata": {},
   "source": [
    "### Punto 9 - Comparación y análisis de resultados\n",
    "En la celda 9 comente sobre los resultados obtenidos con las metodologías usadas en los puntos 7 y 8, compare los resultados y enuncie posibles ventajas o desventajas de cada una de ellas."
   ]
  },
  {
   "cell_type": "markdown",
   "metadata": {},
   "source": [
    "La votación mayoritaria y la votación ponderada dieron resultados bastante similares en términos de Accuracy y F1-Score, con la votación ponderada mostrando una leve mejora en el F1-Score. Lo anterior sugiere que la ponderación de los votos según el desempeño de los modelos individuales puede ofrecer una pequeña ventaja en términos de precisión predictiva. Ambos modelos superan tanto en accuracy como en el F1-Score a los modelos sencillos del Punto 6.\n",
    "\n",
    "**Ventajas y desventajas:**\n",
    "\n",
    "La votación mayoritaria es más directo y fácil de implementar y entender. Tambien puede ser más robusto conta el sobreajuste, por ejemplo si los modelos individuales son muy variados. La desventaja es que puede estar desaprovechando información, dado que todos los modelos contribuyen por igual, independientemente de su desempeño individual, lo que puede no ser óptimo si algunos modelos son significativemente mejor que otros.\n",
    "\n",
    "La votación ponderada maximiza la contribución de los modelos más competentes, lo cual puede repercutir en una mayor precisión. Las desventajas son por ejemplo que son más complejos de implementar, por ejemplo a la hora de determinar los pesos, y si estos no se asignan de forma correcta puede aumentar el riesgo de sobreajuste hacia los modelos con mejor desempeño en el conjunto de los datos de entrenamiento.\n",
    "\n",
    "En el caso de estudio, la diferencia de rendimiento entre las dos técnicas es bastante pequeña, por tanto cualquier enfoque podría ser adecuado."
   ]
  }
 ],
 "metadata": {
  "kernelspec": {
   "display_name": "Python 3 (ipykernel)",
   "language": "python",
   "name": "python3"
  },
  "language_info": {
   "codemirror_mode": {
    "name": "ipython",
    "version": 3
   },
   "file_extension": ".py",
   "mimetype": "text/x-python",
   "name": "python",
   "nbconvert_exporter": "python",
   "pygments_lexer": "ipython3",
   "version": "3.9.16"
  }
 },
 "nbformat": 4,
 "nbformat_minor": 4
}
